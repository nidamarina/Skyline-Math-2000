{
  "nbformat": 4,
  "nbformat_minor": 0,
  "metadata": {
    "colab": {
      "provenance": [],
      "include_colab_link": true
    },
    "kernelspec": {
      "name": "python3",
      "display_name": "Python 3"
    },
    "language_info": {
      "name": "python"
    }
  },
  "cells": [
    {
      "cell_type": "markdown",
      "metadata": {
        "id": "view-in-github",
        "colab_type": "text"
      },
      "source": [
        "<a href=\"https://colab.research.google.com/github/nidamarina/Skyline-Math-2000/blob/main/Notebook_2_Setup_by_Nida_Currier.ipynb\" target=\"_parent\"><img src=\"https://colab.research.google.com/assets/colab-badge.svg\" alt=\"Open In Colab\"/></a>"
      ]
    },
    {
      "cell_type": "markdown",
      "source": [
        "Research Question: Is there an association between off-day wakeup time and marijuana usage? : \n",
        "\n",
        "---\n",
        "\n",
        "\n",
        "\n"
      ],
      "metadata": {
        "id": "RaflRRFg5e8L"
      }
    },
    {
      "cell_type": "code",
      "execution_count": 1,
      "metadata": {
        "id": "U2T9urK-5ZAe"
      },
      "outputs": [],
      "source": [
        "import pandas as pd\n",
        "import matplotlib.pyplot as plt\n",
        "import seaborn as sns"
      ]
    },
    {
      "cell_type": "code",
      "source": [
        "pip install researchpy"
      ],
      "metadata": {
        "colab": {
          "base_uri": "https://localhost:8080/"
        },
        "id": "pynPtCacZ2lF",
        "outputId": "a8b2100d-b09e-4f45-e14d-119757deb876"
      },
      "execution_count": 36,
      "outputs": [
        {
          "output_type": "stream",
          "name": "stdout",
          "text": [
            "Looking in indexes: https://pypi.org/simple, https://us-python.pkg.dev/colab-wheels/public/simple/\n",
            "Collecting researchpy\n",
            "  Downloading researchpy-0.3.5-py3-none-any.whl (33 kB)\n",
            "Requirement already satisfied: statsmodels in /usr/local/lib/python3.10/dist-packages (from researchpy) (0.13.5)\n",
            "Requirement already satisfied: pandas in /usr/local/lib/python3.10/dist-packages (from researchpy) (1.5.3)\n",
            "Requirement already satisfied: scipy in /usr/local/lib/python3.10/dist-packages (from researchpy) (1.10.1)\n",
            "Requirement already satisfied: patsy in /usr/local/lib/python3.10/dist-packages (from researchpy) (0.5.3)\n",
            "Requirement already satisfied: numpy in /usr/local/lib/python3.10/dist-packages (from researchpy) (1.22.4)\n",
            "Requirement already satisfied: pytz>=2020.1 in /usr/local/lib/python3.10/dist-packages (from pandas->researchpy) (2022.7.1)\n",
            "Requirement already satisfied: python-dateutil>=2.8.1 in /usr/local/lib/python3.10/dist-packages (from pandas->researchpy) (2.8.2)\n",
            "Requirement already satisfied: six in /usr/local/lib/python3.10/dist-packages (from patsy->researchpy) (1.16.0)\n",
            "Requirement already satisfied: packaging>=21.3 in /usr/local/lib/python3.10/dist-packages (from statsmodels->researchpy) (23.1)\n",
            "Installing collected packages: researchpy\n",
            "Successfully installed researchpy-0.3.5\n"
          ]
        }
      ]
    },
    {
      "cell_type": "code",
      "source": [
        "import researchpy as rp"
      ],
      "metadata": {
        "id": "pqgXaEB_Z40T"
      },
      "execution_count": 37,
      "outputs": []
    },
    {
      "cell_type": "code",
      "source": [
        "url='https://drive.google.com/file/d/1IbHzUMYKFBkmW3TIvryP7XJlW-WkmGEw/view?usp=sharing'\n",
        "path= 'https://drive.google.com/uc?export=download&id='+url.split('/')[-2]\n",
        "df = pd.read_csv(path)\n",
        "df.head()"
      ],
      "metadata": {
        "id": "Hq7jBgXZ5p7g",
        "colab": {
          "base_uri": "https://localhost:8080/",
          "height": 235
        },
        "outputId": "3bb6ffcd-89f5-424d-ced0-062b0080a9f2"
      },
      "execution_count": 2,
      "outputs": [
        {
          "output_type": "execute_result",
          "data": {
            "text/plain": [
              "       AID  BIO_SEX        agew1 IMONTH4 IDAY4 IYEAR4   MACNO4 INTID4  \\\n",
              "0  5710027        2                                                     \n",
              "1  5710131        2  19.42739726       5     6   2008  2288160    160   \n",
              "2  5710317        1                                                     \n",
              "3  5710386        1  20.43013699       5    22   2008  2288238    238   \n",
              "4  5710455        2                                                     \n",
              "\n",
              "  BIO_SEX4 VERSION4  ... H4EO5C H4EO5D H4EO5E H4EO5F H4EO5G H4EO5H H4EO5I  \\\n",
              "0                    ...                                                    \n",
              "1        2     V5.4  ...      0      0      0      0      0      0      0   \n",
              "2                    ...                                                    \n",
              "3        1     V5.4  ...      0      0      0      0      0      0      0   \n",
              "4                    ...                                                    \n",
              "\n",
              "  H4EO5J H4EO6 H4EO7  \n",
              "0                     \n",
              "1      0     2     1  \n",
              "2                     \n",
              "3      0     4     1  \n",
              "4                     \n",
              "\n",
              "[5 rows x 976 columns]"
            ],
            "text/html": [
              "\n",
              "  <div id=\"df-d2eddc0c-b7aa-484b-b3e0-e980ad40a493\">\n",
              "    <div class=\"colab-df-container\">\n",
              "      <div>\n",
              "<style scoped>\n",
              "    .dataframe tbody tr th:only-of-type {\n",
              "        vertical-align: middle;\n",
              "    }\n",
              "\n",
              "    .dataframe tbody tr th {\n",
              "        vertical-align: top;\n",
              "    }\n",
              "\n",
              "    .dataframe thead th {\n",
              "        text-align: right;\n",
              "    }\n",
              "</style>\n",
              "<table border=\"1\" class=\"dataframe\">\n",
              "  <thead>\n",
              "    <tr style=\"text-align: right;\">\n",
              "      <th></th>\n",
              "      <th>AID</th>\n",
              "      <th>BIO_SEX</th>\n",
              "      <th>agew1</th>\n",
              "      <th>IMONTH4</th>\n",
              "      <th>IDAY4</th>\n",
              "      <th>IYEAR4</th>\n",
              "      <th>MACNO4</th>\n",
              "      <th>INTID4</th>\n",
              "      <th>BIO_SEX4</th>\n",
              "      <th>VERSION4</th>\n",
              "      <th>...</th>\n",
              "      <th>H4EO5C</th>\n",
              "      <th>H4EO5D</th>\n",
              "      <th>H4EO5E</th>\n",
              "      <th>H4EO5F</th>\n",
              "      <th>H4EO5G</th>\n",
              "      <th>H4EO5H</th>\n",
              "      <th>H4EO5I</th>\n",
              "      <th>H4EO5J</th>\n",
              "      <th>H4EO6</th>\n",
              "      <th>H4EO7</th>\n",
              "    </tr>\n",
              "  </thead>\n",
              "  <tbody>\n",
              "    <tr>\n",
              "      <th>0</th>\n",
              "      <td>5710027</td>\n",
              "      <td>2</td>\n",
              "      <td></td>\n",
              "      <td></td>\n",
              "      <td></td>\n",
              "      <td></td>\n",
              "      <td></td>\n",
              "      <td></td>\n",
              "      <td></td>\n",
              "      <td></td>\n",
              "      <td>...</td>\n",
              "      <td></td>\n",
              "      <td></td>\n",
              "      <td></td>\n",
              "      <td></td>\n",
              "      <td></td>\n",
              "      <td></td>\n",
              "      <td></td>\n",
              "      <td></td>\n",
              "      <td></td>\n",
              "      <td></td>\n",
              "    </tr>\n",
              "    <tr>\n",
              "      <th>1</th>\n",
              "      <td>5710131</td>\n",
              "      <td>2</td>\n",
              "      <td>19.42739726</td>\n",
              "      <td>5</td>\n",
              "      <td>6</td>\n",
              "      <td>2008</td>\n",
              "      <td>2288160</td>\n",
              "      <td>160</td>\n",
              "      <td>2</td>\n",
              "      <td>V5.4</td>\n",
              "      <td>...</td>\n",
              "      <td>0</td>\n",
              "      <td>0</td>\n",
              "      <td>0</td>\n",
              "      <td>0</td>\n",
              "      <td>0</td>\n",
              "      <td>0</td>\n",
              "      <td>0</td>\n",
              "      <td>0</td>\n",
              "      <td>2</td>\n",
              "      <td>1</td>\n",
              "    </tr>\n",
              "    <tr>\n",
              "      <th>2</th>\n",
              "      <td>5710317</td>\n",
              "      <td>1</td>\n",
              "      <td></td>\n",
              "      <td></td>\n",
              "      <td></td>\n",
              "      <td></td>\n",
              "      <td></td>\n",
              "      <td></td>\n",
              "      <td></td>\n",
              "      <td></td>\n",
              "      <td>...</td>\n",
              "      <td></td>\n",
              "      <td></td>\n",
              "      <td></td>\n",
              "      <td></td>\n",
              "      <td></td>\n",
              "      <td></td>\n",
              "      <td></td>\n",
              "      <td></td>\n",
              "      <td></td>\n",
              "      <td></td>\n",
              "    </tr>\n",
              "    <tr>\n",
              "      <th>3</th>\n",
              "      <td>5710386</td>\n",
              "      <td>1</td>\n",
              "      <td>20.43013699</td>\n",
              "      <td>5</td>\n",
              "      <td>22</td>\n",
              "      <td>2008</td>\n",
              "      <td>2288238</td>\n",
              "      <td>238</td>\n",
              "      <td>1</td>\n",
              "      <td>V5.4</td>\n",
              "      <td>...</td>\n",
              "      <td>0</td>\n",
              "      <td>0</td>\n",
              "      <td>0</td>\n",
              "      <td>0</td>\n",
              "      <td>0</td>\n",
              "      <td>0</td>\n",
              "      <td>0</td>\n",
              "      <td>0</td>\n",
              "      <td>4</td>\n",
              "      <td>1</td>\n",
              "    </tr>\n",
              "    <tr>\n",
              "      <th>4</th>\n",
              "      <td>5710455</td>\n",
              "      <td>2</td>\n",
              "      <td></td>\n",
              "      <td></td>\n",
              "      <td></td>\n",
              "      <td></td>\n",
              "      <td></td>\n",
              "      <td></td>\n",
              "      <td></td>\n",
              "      <td></td>\n",
              "      <td>...</td>\n",
              "      <td></td>\n",
              "      <td></td>\n",
              "      <td></td>\n",
              "      <td></td>\n",
              "      <td></td>\n",
              "      <td></td>\n",
              "      <td></td>\n",
              "      <td></td>\n",
              "      <td></td>\n",
              "      <td></td>\n",
              "    </tr>\n",
              "  </tbody>\n",
              "</table>\n",
              "<p>5 rows × 976 columns</p>\n",
              "</div>\n",
              "      <button class=\"colab-df-convert\" onclick=\"convertToInteractive('df-d2eddc0c-b7aa-484b-b3e0-e980ad40a493')\"\n",
              "              title=\"Convert this dataframe to an interactive table.\"\n",
              "              style=\"display:none;\">\n",
              "        \n",
              "  <svg xmlns=\"http://www.w3.org/2000/svg\" height=\"24px\"viewBox=\"0 0 24 24\"\n",
              "       width=\"24px\">\n",
              "    <path d=\"M0 0h24v24H0V0z\" fill=\"none\"/>\n",
              "    <path d=\"M18.56 5.44l.94 2.06.94-2.06 2.06-.94-2.06-.94-.94-2.06-.94 2.06-2.06.94zm-11 1L8.5 8.5l.94-2.06 2.06-.94-2.06-.94L8.5 2.5l-.94 2.06-2.06.94zm10 10l.94 2.06.94-2.06 2.06-.94-2.06-.94-.94-2.06-.94 2.06-2.06.94z\"/><path d=\"M17.41 7.96l-1.37-1.37c-.4-.4-.92-.59-1.43-.59-.52 0-1.04.2-1.43.59L10.3 9.45l-7.72 7.72c-.78.78-.78 2.05 0 2.83L4 21.41c.39.39.9.59 1.41.59.51 0 1.02-.2 1.41-.59l7.78-7.78 2.81-2.81c.8-.78.8-2.07 0-2.86zM5.41 20L4 18.59l7.72-7.72 1.47 1.35L5.41 20z\"/>\n",
              "  </svg>\n",
              "      </button>\n",
              "      \n",
              "  <style>\n",
              "    .colab-df-container {\n",
              "      display:flex;\n",
              "      flex-wrap:wrap;\n",
              "      gap: 12px;\n",
              "    }\n",
              "\n",
              "    .colab-df-convert {\n",
              "      background-color: #E8F0FE;\n",
              "      border: none;\n",
              "      border-radius: 50%;\n",
              "      cursor: pointer;\n",
              "      display: none;\n",
              "      fill: #1967D2;\n",
              "      height: 32px;\n",
              "      padding: 0 0 0 0;\n",
              "      width: 32px;\n",
              "    }\n",
              "\n",
              "    .colab-df-convert:hover {\n",
              "      background-color: #E2EBFA;\n",
              "      box-shadow: 0px 1px 2px rgba(60, 64, 67, 0.3), 0px 1px 3px 1px rgba(60, 64, 67, 0.15);\n",
              "      fill: #174EA6;\n",
              "    }\n",
              "\n",
              "    [theme=dark] .colab-df-convert {\n",
              "      background-color: #3B4455;\n",
              "      fill: #D2E3FC;\n",
              "    }\n",
              "\n",
              "    [theme=dark] .colab-df-convert:hover {\n",
              "      background-color: #434B5C;\n",
              "      box-shadow: 0px 1px 3px 1px rgba(0, 0, 0, 0.15);\n",
              "      filter: drop-shadow(0px 1px 2px rgba(0, 0, 0, 0.3));\n",
              "      fill: #FFFFFF;\n",
              "    }\n",
              "  </style>\n",
              "\n",
              "      <script>\n",
              "        const buttonEl =\n",
              "          document.querySelector('#df-d2eddc0c-b7aa-484b-b3e0-e980ad40a493 button.colab-df-convert');\n",
              "        buttonEl.style.display =\n",
              "          google.colab.kernel.accessAllowed ? 'block' : 'none';\n",
              "\n",
              "        async function convertToInteractive(key) {\n",
              "          const element = document.querySelector('#df-d2eddc0c-b7aa-484b-b3e0-e980ad40a493');\n",
              "          const dataTable =\n",
              "            await google.colab.kernel.invokeFunction('convertToInteractive',\n",
              "                                                     [key], {});\n",
              "          if (!dataTable) return;\n",
              "\n",
              "          const docLinkHtml = 'Like what you see? Visit the ' +\n",
              "            '<a target=\"_blank\" href=https://colab.research.google.com/notebooks/data_table.ipynb>data table notebook</a>'\n",
              "            + ' to learn more about interactive tables.';\n",
              "          element.innerHTML = '';\n",
              "          dataTable['output_type'] = 'display_data';\n",
              "          await google.colab.output.renderOutput(dataTable, element);\n",
              "          const docLink = document.createElement('div');\n",
              "          docLink.innerHTML = docLinkHtml;\n",
              "          element.appendChild(docLink);\n",
              "        }\n",
              "      </script>\n",
              "    </div>\n",
              "  </div>\n",
              "  "
            ]
          },
          "metadata": {},
          "execution_count": 2
        }
      ]
    },
    {
      "cell_type": "markdown",
      "source": [
        "Codebook 1:![Screenshot 2023-04-30 at 11.11.39 AM.png](data:image/png;base64,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)"
      ],
      "metadata": {
        "id": "P2Vacu7L52PB"
      }
    },
    {
      "cell_type": "code",
      "source": [
        "#Manage data for variable 1\n",
        "df['H4SP3T'].dtype"
      ],
      "metadata": {
        "id": "BGXegclY57pS",
        "colab": {
          "base_uri": "https://localhost:8080/"
        },
        "outputId": "176aab1a-51c4-4b81-d02e-1396c08f36bf"
      },
      "execution_count": 3,
      "outputs": [
        {
          "output_type": "execute_result",
          "data": {
            "text/plain": [
              "dtype('O')"
            ]
          },
          "metadata": {},
          "execution_count": 3
        }
      ]
    },
    {
      "cell_type": "code",
      "source": [
        "df['offday_wakeup'] = df['H4SP3T']\n",
        "df['offday_wakeup'].dtype"
      ],
      "metadata": {
        "colab": {
          "base_uri": "https://localhost:8080/"
        },
        "id": "hrtchJ1yXl3S",
        "outputId": "3f3cf241-c8cb-495e-d23a-2d229c95a192"
      },
      "execution_count": 4,
      "outputs": [
        {
          "output_type": "execute_result",
          "data": {
            "text/plain": [
              "dtype('O')"
            ]
          },
          "metadata": {},
          "execution_count": 4
        }
      ]
    },
    {
      "cell_type": "code",
      "source": [
        "df['offday_wakeup'] = pd.to_numeric(df['offday_wakeup'] , errors= 'coerce')\n",
        "df['offday_wakeup'].dtype"
      ],
      "metadata": {
        "colab": {
          "base_uri": "https://localhost:8080/"
        },
        "id": "9-vjNBXJXox0",
        "outputId": "ac931a47-92e2-4a59-b251-539723679d47"
      },
      "execution_count": 5,
      "outputs": [
        {
          "output_type": "execute_result",
          "data": {
            "text/plain": [
              "dtype('float64')"
            ]
          },
          "metadata": {},
          "execution_count": 5
        }
      ]
    },
    {
      "cell_type": "code",
      "source": [
        "df['offday_wakeup'] = df['offday_wakeup'].loc[ df['offday_wakeup'] < 96]\n",
        "df['offday_wakeup'].max()"
      ],
      "metadata": {
        "colab": {
          "base_uri": "https://localhost:8080/"
        },
        "id": "wb3IUbIbXqeJ",
        "outputId": "ab04c4c4-91c7-494b-ba3f-e4d0f423e3cf"
      },
      "execution_count": 6,
      "outputs": [
        {
          "output_type": "execute_result",
          "data": {
            "text/plain": [
              "8.0"
            ]
          },
          "metadata": {},
          "execution_count": 6
        }
      ]
    },
    {
      "cell_type": "code",
      "source": [
        "df['offday_wakeup'].describe()"
      ],
      "metadata": {
        "colab": {
          "base_uri": "https://localhost:8080/"
        },
        "id": "O-b1Uh2CXuDq",
        "outputId": "38dfae0d-4f39-406e-9eb0-8bc99dc4271c"
      },
      "execution_count": 7,
      "outputs": [
        {
          "output_type": "execute_result",
          "data": {
            "text/plain": [
              "count    5114.000000\n",
              "mean        1.097575\n",
              "std         0.375858\n",
              "min         1.000000\n",
              "25%         1.000000\n",
              "50%         1.000000\n",
              "75%         1.000000\n",
              "max         8.000000\n",
              "Name: offday_wakeup, dtype: float64"
            ]
          },
          "metadata": {},
          "execution_count": 7
        }
      ]
    },
    {
      "cell_type": "code",
      "source": [
        "df['H4SP3T'].value_counts()"
      ],
      "metadata": {
        "colab": {
          "base_uri": "https://localhost:8080/"
        },
        "id": "bpOd41_CX27t",
        "outputId": "91c903f0-bbea-450c-d7bb-86e8844b1619"
      },
      "execution_count": 8,
      "outputs": [
        {
          "output_type": "execute_result",
          "data": {
            "text/plain": [
              "1    4655\n",
              "     1390\n",
              "2     452\n",
              "8       6\n",
              "6       1\n",
              "Name: H4SP3T, dtype: int64"
            ]
          },
          "metadata": {},
          "execution_count": 8
        }
      ]
    },
    {
      "cell_type": "code",
      "source": [
        "df['offday_wakeup'] = df['H4SP3T']\n",
        "df['offday_wakeup']= pd.to_numeric(df['offday_wakeup'],errors= 'coerce')\n",
        "df['offday_wakeup']= df['offday_wakeup'].loc[df['offday_wakeup'] < 96]\n",
        "df['offday_wakeup']= df['offday_wakeup'].loc[df['offday_wakeup'] != ' ']\n",
        "df['offday_wakeup'].value_counts()"
      ],
      "metadata": {
        "colab": {
          "base_uri": "https://localhost:8080/"
        },
        "id": "JvnPJsmXX5Pp",
        "outputId": "046a440a-ab01-405d-d6a0-d3b0782ba600"
      },
      "execution_count": 9,
      "outputs": [
        {
          "output_type": "execute_result",
          "data": {
            "text/plain": [
              "1.0    4655\n",
              "2.0     452\n",
              "8.0       6\n",
              "6.0       1\n",
              "Name: offday_wakeup, dtype: int64"
            ]
          },
          "metadata": {},
          "execution_count": 9
        }
      ]
    },
    {
      "cell_type": "code",
      "source": [
        "df['Am_Pm_Wakeup']=df['H4SP3T']\n",
        "df['Am_Pm_Wakeup'] = df['Am_Pm_Wakeup'].loc[df['Am_Pm_Wakeup'] !=' ']\n",
        "df['Am_Pm_Wakeup'] = df['Am_Pm_Wakeup'].loc[df['Am_Pm_Wakeup'] <'6']\n",
        "df['Am_Pm_Wakeup'].replace(['1','2'],['AM','PM'],inplace=True)\n",
        "df['Am_Pm_Wakeup'].value_counts()\n"
      ],
      "metadata": {
        "colab": {
          "base_uri": "https://localhost:8080/"
        },
        "id": "c0EUQFJLX-g7",
        "outputId": "ebf162c1-03c0-4311-d700-41fe6afcae10"
      },
      "execution_count": 10,
      "outputs": [
        {
          "output_type": "execute_result",
          "data": {
            "text/plain": [
              "AM    4655\n",
              "PM     452\n",
              "Name: Am_Pm_Wakeup, dtype: int64"
            ]
          },
          "metadata": {},
          "execution_count": 10
        }
      ]
    },
    {
      "cell_type": "code",
      "source": [
        "#hours\n",
        "df['H4SP3H'].value_counts()"
      ],
      "metadata": {
        "colab": {
          "base_uri": "https://localhost:8080/"
        },
        "id": "BvBelOFQYshU",
        "outputId": "f3d4fc03-9396-43f9-e865-6b75003aafca"
      },
      "execution_count": 11,
      "outputs": [
        {
          "output_type": "execute_result",
          "data": {
            "text/plain": [
              "      1390\n",
              "8     1167\n",
              "7     1035\n",
              "9      934\n",
              "10     674\n",
              "6      425\n",
              "11     316\n",
              "12     238\n",
              "5      130\n",
              "1       73\n",
              "4       45\n",
              "2       39\n",
              "3       30\n",
              "98       7\n",
              "96       1\n",
              "Name: H4SP3H, dtype: int64"
            ]
          },
          "metadata": {},
          "execution_count": 11
        }
      ]
    },
    {
      "cell_type": "code",
      "source": [
        "df['Hour_Wakeup'] = df['H4SP3H']\n",
        "df['Hour_Wakeup']= pd.to_numeric(df['Hour_Wakeup'],errors= 'coerce')\n",
        "df['Hour_Wakeup']= df['Hour_Wakeup'].loc[df['Hour_Wakeup'] < 96]\n",
        "df['Hour_Wakeup']= df['Hour_Wakeup'].loc[df['Hour_Wakeup'] != ' ']\n",
        "df['Hour_Wakeup'].value_counts()"
      ],
      "metadata": {
        "colab": {
          "base_uri": "https://localhost:8080/"
        },
        "id": "KcdSjkDuYwOt",
        "outputId": "e2f94968-f0d5-4e83-88bc-7e32d9a10787"
      },
      "execution_count": 12,
      "outputs": [
        {
          "output_type": "execute_result",
          "data": {
            "text/plain": [
              "8.0     1167\n",
              "7.0     1035\n",
              "9.0      934\n",
              "10.0     674\n",
              "6.0      425\n",
              "11.0     316\n",
              "12.0     238\n",
              "5.0      130\n",
              "1.0       73\n",
              "4.0       45\n",
              "2.0       39\n",
              "3.0       30\n",
              "Name: Hour_Wakeup, dtype: int64"
            ]
          },
          "metadata": {},
          "execution_count": 12
        }
      ]
    },
    {
      "cell_type": "code",
      "source": [
        "#minutes\n",
        "df['H4SP3M'].value_counts()"
      ],
      "metadata": {
        "colab": {
          "base_uri": "https://localhost:8080/"
        },
        "id": "BSVfo1lJYyzw",
        "outputId": "b5cda140-131a-495a-b94c-1599f474081e"
      },
      "execution_count": 13,
      "outputs": [
        {
          "output_type": "execute_result",
          "data": {
            "text/plain": [
              "0     3777\n",
              "      1390\n",
              "30    1195\n",
              "45      44\n",
              "15      28\n",
              "3       28\n",
              "20      10\n",
              "1        9\n",
              "98       7\n",
              "40       4\n",
              "10       4\n",
              "50       2\n",
              "35       1\n",
              "39       1\n",
              "48       1\n",
              "96       1\n",
              "55       1\n",
              "2        1\n",
              "Name: H4SP3M, dtype: int64"
            ]
          },
          "metadata": {},
          "execution_count": 13
        }
      ]
    },
    {
      "cell_type": "code",
      "source": [
        "df['Minutes_Wakeup']= df['H4SP3M']\n",
        "df['Minutes_Wakeup']= pd.to_numeric(df['Minutes_Wakeup'],errors= 'coerce')\n",
        "df['Minutes_Wakeup']= df['Minutes_Wakeup'].loc[df['Minutes_Wakeup'] < 96]\n",
        "df['Minutes_Wakeup']= df['Minutes_Wakeup'].loc[df['Minutes_Wakeup'] != ' ']\n",
        "df['Minutes_Wakeup'].value_counts()"
      ],
      "metadata": {
        "colab": {
          "base_uri": "https://localhost:8080/"
        },
        "id": "bFgW3vm3Y6Eg",
        "outputId": "63b2e47a-af05-49d2-e574-a2fc0e917014"
      },
      "execution_count": 14,
      "outputs": [
        {
          "output_type": "execute_result",
          "data": {
            "text/plain": [
              "0.0     3777\n",
              "30.0    1195\n",
              "45.0      44\n",
              "15.0      28\n",
              "3.0       28\n",
              "20.0      10\n",
              "1.0        9\n",
              "40.0       4\n",
              "10.0       4\n",
              "50.0       2\n",
              "55.0       1\n",
              "48.0       1\n",
              "39.0       1\n",
              "35.0       1\n",
              "2.0        1\n",
              "Name: Minutes_Wakeup, dtype: int64"
            ]
          },
          "metadata": {},
          "execution_count": 14
        }
      ]
    },
    {
      "cell_type": "code",
      "source": [
        "df_time_convert= df[['Am_Pm_Wakeup','Hour_Wakeup','Minutes_Wakeup']]"
      ],
      "metadata": {
        "id": "7B1Kb-_FY9oo"
      },
      "execution_count": 15,
      "outputs": []
    },
    {
      "cell_type": "code",
      "source": [
        "df_time_convert.dropna(inplace=True)"
      ],
      "metadata": {
        "colab": {
          "base_uri": "https://localhost:8080/"
        },
        "id": "QgvH7sR3ZAa3",
        "outputId": "8c72e0f7-d61f-43f4-a763-19248e3d55de"
      },
      "execution_count": 16,
      "outputs": [
        {
          "output_type": "stream",
          "name": "stderr",
          "text": [
            "<ipython-input-16-9f90cf800d75>:1: SettingWithCopyWarning: \n",
            "A value is trying to be set on a copy of a slice from a DataFrame\n",
            "\n",
            "See the caveats in the documentation: https://pandas.pydata.org/pandas-docs/stable/user_guide/indexing.html#returning-a-view-versus-a-copy\n",
            "  df_time_convert.dropna(inplace=True)\n"
          ]
        }
      ]
    },
    {
      "cell_type": "code",
      "source": [
        "def to_military_time_float(in_hour,in_min,am_pm):\n",
        "  out_time = 0\n",
        "  if in_hour == '12':\n",
        "\n",
        "    if am_pm == 'AM': \n",
        "      out_time = 0\n",
        "    else:\n",
        "      out_time = int(in_hour)\n",
        "  \n",
        "  elif (0 < int(in_hour) < 12):\n",
        "    if am_pm == 'AM':\n",
        "      out_time = int(in_hour)\n",
        "    else:\n",
        "      out_time = int(in_hour) + 12\n",
        "  \n",
        "  \n",
        "\n",
        "  out_min = int(in_min) / 60\n",
        "\n",
        "  out_time += out_min \n",
        "\n",
        "\n",
        "\n",
        "\n",
        "  return out_time"
      ],
      "metadata": {
        "id": "sNJ6QHM2ZHRs"
      },
      "execution_count": 18,
      "outputs": []
    },
    {
      "cell_type": "code",
      "source": [
        "to_military_time_float('9','30','AM')"
      ],
      "metadata": {
        "colab": {
          "base_uri": "https://localhost:8080/"
        },
        "id": "HnHyNW9HZJjm",
        "outputId": "26dfb244-302e-4578-aeae-d44aeee37802"
      },
      "execution_count": 19,
      "outputs": [
        {
          "output_type": "execute_result",
          "data": {
            "text/plain": [
              "9.5"
            ]
          },
          "metadata": {},
          "execution_count": 19
        }
      ]
    },
    {
      "cell_type": "code",
      "source": [
        "df_time_convert['Time Value (float)'] = df_time_convert.apply(lambda x: to_military_time_float(x['Hour_Wakeup'],x['Minutes_Wakeup'],x['Am_Pm_Wakeup']),axis = 1)\n",
        "#axis=1, to the column, apply the values \n",
        "df_time_convert"
      ],
      "metadata": {
        "colab": {
          "base_uri": "https://localhost:8080/",
          "height": 527
        },
        "id": "XhWd48SIZL1n",
        "outputId": "891e029c-e9fc-4993-8bf8-427a314dbf9b"
      },
      "execution_count": 20,
      "outputs": [
        {
          "output_type": "stream",
          "name": "stderr",
          "text": [
            "<ipython-input-20-c81b70828788>:1: SettingWithCopyWarning: \n",
            "A value is trying to be set on a copy of a slice from a DataFrame.\n",
            "Try using .loc[row_indexer,col_indexer] = value instead\n",
            "\n",
            "See the caveats in the documentation: https://pandas.pydata.org/pandas-docs/stable/user_guide/indexing.html#returning-a-view-versus-a-copy\n",
            "  df_time_convert['Time Value (float)'] = df_time_convert.apply(lambda x: to_military_time_float(x['Hour_Wakeup'],x['Minutes_Wakeup'],x['Am_Pm_Wakeup']),axis = 1)\n"
          ]
        },
        {
          "output_type": "execute_result",
          "data": {
            "text/plain": [
              "     Am_Pm_Wakeup  Hour_Wakeup  Minutes_Wakeup  Time Value (float)\n",
              "1              AM          7.0            30.0            7.500000\n",
              "3              AM          9.0             0.0            9.000000\n",
              "7              AM          6.0            30.0            6.500000\n",
              "9              PM          2.0             0.0           14.000000\n",
              "11             AM          5.0             0.0            5.000000\n",
              "...           ...          ...             ...                 ...\n",
              "6499           AM         10.0             0.0           10.000000\n",
              "6500           AM          8.0             0.0            8.000000\n",
              "6501           AM          5.0            30.0            5.500000\n",
              "6502           AM          8.0             2.0            8.033333\n",
              "6503           AM          7.0            30.0            7.500000\n",
              "\n",
              "[5106 rows x 4 columns]"
            ],
            "text/html": [
              "\n",
              "  <div id=\"df-368e00ca-13ae-451e-8f7d-306f10cd28db\">\n",
              "    <div class=\"colab-df-container\">\n",
              "      <div>\n",
              "<style scoped>\n",
              "    .dataframe tbody tr th:only-of-type {\n",
              "        vertical-align: middle;\n",
              "    }\n",
              "\n",
              "    .dataframe tbody tr th {\n",
              "        vertical-align: top;\n",
              "    }\n",
              "\n",
              "    .dataframe thead th {\n",
              "        text-align: right;\n",
              "    }\n",
              "</style>\n",
              "<table border=\"1\" class=\"dataframe\">\n",
              "  <thead>\n",
              "    <tr style=\"text-align: right;\">\n",
              "      <th></th>\n",
              "      <th>Am_Pm_Wakeup</th>\n",
              "      <th>Hour_Wakeup</th>\n",
              "      <th>Minutes_Wakeup</th>\n",
              "      <th>Time Value (float)</th>\n",
              "    </tr>\n",
              "  </thead>\n",
              "  <tbody>\n",
              "    <tr>\n",
              "      <th>1</th>\n",
              "      <td>AM</td>\n",
              "      <td>7.0</td>\n",
              "      <td>30.0</td>\n",
              "      <td>7.500000</td>\n",
              "    </tr>\n",
              "    <tr>\n",
              "      <th>3</th>\n",
              "      <td>AM</td>\n",
              "      <td>9.0</td>\n",
              "      <td>0.0</td>\n",
              "      <td>9.000000</td>\n",
              "    </tr>\n",
              "    <tr>\n",
              "      <th>7</th>\n",
              "      <td>AM</td>\n",
              "      <td>6.0</td>\n",
              "      <td>30.0</td>\n",
              "      <td>6.500000</td>\n",
              "    </tr>\n",
              "    <tr>\n",
              "      <th>9</th>\n",
              "      <td>PM</td>\n",
              "      <td>2.0</td>\n",
              "      <td>0.0</td>\n",
              "      <td>14.000000</td>\n",
              "    </tr>\n",
              "    <tr>\n",
              "      <th>11</th>\n",
              "      <td>AM</td>\n",
              "      <td>5.0</td>\n",
              "      <td>0.0</td>\n",
              "      <td>5.000000</td>\n",
              "    </tr>\n",
              "    <tr>\n",
              "      <th>...</th>\n",
              "      <td>...</td>\n",
              "      <td>...</td>\n",
              "      <td>...</td>\n",
              "      <td>...</td>\n",
              "    </tr>\n",
              "    <tr>\n",
              "      <th>6499</th>\n",
              "      <td>AM</td>\n",
              "      <td>10.0</td>\n",
              "      <td>0.0</td>\n",
              "      <td>10.000000</td>\n",
              "    </tr>\n",
              "    <tr>\n",
              "      <th>6500</th>\n",
              "      <td>AM</td>\n",
              "      <td>8.0</td>\n",
              "      <td>0.0</td>\n",
              "      <td>8.000000</td>\n",
              "    </tr>\n",
              "    <tr>\n",
              "      <th>6501</th>\n",
              "      <td>AM</td>\n",
              "      <td>5.0</td>\n",
              "      <td>30.0</td>\n",
              "      <td>5.500000</td>\n",
              "    </tr>\n",
              "    <tr>\n",
              "      <th>6502</th>\n",
              "      <td>AM</td>\n",
              "      <td>8.0</td>\n",
              "      <td>2.0</td>\n",
              "      <td>8.033333</td>\n",
              "    </tr>\n",
              "    <tr>\n",
              "      <th>6503</th>\n",
              "      <td>AM</td>\n",
              "      <td>7.0</td>\n",
              "      <td>30.0</td>\n",
              "      <td>7.500000</td>\n",
              "    </tr>\n",
              "  </tbody>\n",
              "</table>\n",
              "<p>5106 rows × 4 columns</p>\n",
              "</div>\n",
              "      <button class=\"colab-df-convert\" onclick=\"convertToInteractive('df-368e00ca-13ae-451e-8f7d-306f10cd28db')\"\n",
              "              title=\"Convert this dataframe to an interactive table.\"\n",
              "              style=\"display:none;\">\n",
              "        \n",
              "  <svg xmlns=\"http://www.w3.org/2000/svg\" height=\"24px\"viewBox=\"0 0 24 24\"\n",
              "       width=\"24px\">\n",
              "    <path d=\"M0 0h24v24H0V0z\" fill=\"none\"/>\n",
              "    <path d=\"M18.56 5.44l.94 2.06.94-2.06 2.06-.94-2.06-.94-.94-2.06-.94 2.06-2.06.94zm-11 1L8.5 8.5l.94-2.06 2.06-.94-2.06-.94L8.5 2.5l-.94 2.06-2.06.94zm10 10l.94 2.06.94-2.06 2.06-.94-2.06-.94-.94-2.06-.94 2.06-2.06.94z\"/><path d=\"M17.41 7.96l-1.37-1.37c-.4-.4-.92-.59-1.43-.59-.52 0-1.04.2-1.43.59L10.3 9.45l-7.72 7.72c-.78.78-.78 2.05 0 2.83L4 21.41c.39.39.9.59 1.41.59.51 0 1.02-.2 1.41-.59l7.78-7.78 2.81-2.81c.8-.78.8-2.07 0-2.86zM5.41 20L4 18.59l7.72-7.72 1.47 1.35L5.41 20z\"/>\n",
              "  </svg>\n",
              "      </button>\n",
              "      \n",
              "  <style>\n",
              "    .colab-df-container {\n",
              "      display:flex;\n",
              "      flex-wrap:wrap;\n",
              "      gap: 12px;\n",
              "    }\n",
              "\n",
              "    .colab-df-convert {\n",
              "      background-color: #E8F0FE;\n",
              "      border: none;\n",
              "      border-radius: 50%;\n",
              "      cursor: pointer;\n",
              "      display: none;\n",
              "      fill: #1967D2;\n",
              "      height: 32px;\n",
              "      padding: 0 0 0 0;\n",
              "      width: 32px;\n",
              "    }\n",
              "\n",
              "    .colab-df-convert:hover {\n",
              "      background-color: #E2EBFA;\n",
              "      box-shadow: 0px 1px 2px rgba(60, 64, 67, 0.3), 0px 1px 3px 1px rgba(60, 64, 67, 0.15);\n",
              "      fill: #174EA6;\n",
              "    }\n",
              "\n",
              "    [theme=dark] .colab-df-convert {\n",
              "      background-color: #3B4455;\n",
              "      fill: #D2E3FC;\n",
              "    }\n",
              "\n",
              "    [theme=dark] .colab-df-convert:hover {\n",
              "      background-color: #434B5C;\n",
              "      box-shadow: 0px 1px 3px 1px rgba(0, 0, 0, 0.15);\n",
              "      filter: drop-shadow(0px 1px 2px rgba(0, 0, 0, 0.3));\n",
              "      fill: #FFFFFF;\n",
              "    }\n",
              "  </style>\n",
              "\n",
              "      <script>\n",
              "        const buttonEl =\n",
              "          document.querySelector('#df-368e00ca-13ae-451e-8f7d-306f10cd28db button.colab-df-convert');\n",
              "        buttonEl.style.display =\n",
              "          google.colab.kernel.accessAllowed ? 'block' : 'none';\n",
              "\n",
              "        async function convertToInteractive(key) {\n",
              "          const element = document.querySelector('#df-368e00ca-13ae-451e-8f7d-306f10cd28db');\n",
              "          const dataTable =\n",
              "            await google.colab.kernel.invokeFunction('convertToInteractive',\n",
              "                                                     [key], {});\n",
              "          if (!dataTable) return;\n",
              "\n",
              "          const docLinkHtml = 'Like what you see? Visit the ' +\n",
              "            '<a target=\"_blank\" href=https://colab.research.google.com/notebooks/data_table.ipynb>data table notebook</a>'\n",
              "            + ' to learn more about interactive tables.';\n",
              "          element.innerHTML = '';\n",
              "          dataTable['output_type'] = 'display_data';\n",
              "          await google.colab.output.renderOutput(dataTable, element);\n",
              "          const docLink = document.createElement('div');\n",
              "          docLink.innerHTML = docLinkHtml;\n",
              "          element.appendChild(docLink);\n",
              "        }\n",
              "      </script>\n",
              "    </div>\n",
              "  </div>\n",
              "  "
            ]
          },
          "metadata": {},
          "execution_count": 20
        }
      ]
    },
    {
      "cell_type": "code",
      "source": [
        "df_time_convert.loc[df_time_convert['Time Value (float)'] > 24]"
      ],
      "metadata": {
        "colab": {
          "base_uri": "https://localhost:8080/",
          "height": 49
        },
        "id": "WUVoitWSZP9W",
        "outputId": "7dc2a1a5-9850-46ec-ab19-8d33ff8052ea"
      },
      "execution_count": 21,
      "outputs": [
        {
          "output_type": "execute_result",
          "data": {
            "text/plain": [
              "Empty DataFrame\n",
              "Columns: [Am_Pm_Wakeup, Hour_Wakeup, Minutes_Wakeup, Time Value (float)]\n",
              "Index: []"
            ],
            "text/html": [
              "\n",
              "  <div id=\"df-921e94da-81d1-4afa-8142-46c2c18d4b29\">\n",
              "    <div class=\"colab-df-container\">\n",
              "      <div>\n",
              "<style scoped>\n",
              "    .dataframe tbody tr th:only-of-type {\n",
              "        vertical-align: middle;\n",
              "    }\n",
              "\n",
              "    .dataframe tbody tr th {\n",
              "        vertical-align: top;\n",
              "    }\n",
              "\n",
              "    .dataframe thead th {\n",
              "        text-align: right;\n",
              "    }\n",
              "</style>\n",
              "<table border=\"1\" class=\"dataframe\">\n",
              "  <thead>\n",
              "    <tr style=\"text-align: right;\">\n",
              "      <th></th>\n",
              "      <th>Am_Pm_Wakeup</th>\n",
              "      <th>Hour_Wakeup</th>\n",
              "      <th>Minutes_Wakeup</th>\n",
              "      <th>Time Value (float)</th>\n",
              "    </tr>\n",
              "  </thead>\n",
              "  <tbody>\n",
              "  </tbody>\n",
              "</table>\n",
              "</div>\n",
              "      <button class=\"colab-df-convert\" onclick=\"convertToInteractive('df-921e94da-81d1-4afa-8142-46c2c18d4b29')\"\n",
              "              title=\"Convert this dataframe to an interactive table.\"\n",
              "              style=\"display:none;\">\n",
              "        \n",
              "  <svg xmlns=\"http://www.w3.org/2000/svg\" height=\"24px\"viewBox=\"0 0 24 24\"\n",
              "       width=\"24px\">\n",
              "    <path d=\"M0 0h24v24H0V0z\" fill=\"none\"/>\n",
              "    <path d=\"M18.56 5.44l.94 2.06.94-2.06 2.06-.94-2.06-.94-.94-2.06-.94 2.06-2.06.94zm-11 1L8.5 8.5l.94-2.06 2.06-.94-2.06-.94L8.5 2.5l-.94 2.06-2.06.94zm10 10l.94 2.06.94-2.06 2.06-.94-2.06-.94-.94-2.06-.94 2.06-2.06.94z\"/><path d=\"M17.41 7.96l-1.37-1.37c-.4-.4-.92-.59-1.43-.59-.52 0-1.04.2-1.43.59L10.3 9.45l-7.72 7.72c-.78.78-.78 2.05 0 2.83L4 21.41c.39.39.9.59 1.41.59.51 0 1.02-.2 1.41-.59l7.78-7.78 2.81-2.81c.8-.78.8-2.07 0-2.86zM5.41 20L4 18.59l7.72-7.72 1.47 1.35L5.41 20z\"/>\n",
              "  </svg>\n",
              "      </button>\n",
              "      \n",
              "  <style>\n",
              "    .colab-df-container {\n",
              "      display:flex;\n",
              "      flex-wrap:wrap;\n",
              "      gap: 12px;\n",
              "    }\n",
              "\n",
              "    .colab-df-convert {\n",
              "      background-color: #E8F0FE;\n",
              "      border: none;\n",
              "      border-radius: 50%;\n",
              "      cursor: pointer;\n",
              "      display: none;\n",
              "      fill: #1967D2;\n",
              "      height: 32px;\n",
              "      padding: 0 0 0 0;\n",
              "      width: 32px;\n",
              "    }\n",
              "\n",
              "    .colab-df-convert:hover {\n",
              "      background-color: #E2EBFA;\n",
              "      box-shadow: 0px 1px 2px rgba(60, 64, 67, 0.3), 0px 1px 3px 1px rgba(60, 64, 67, 0.15);\n",
              "      fill: #174EA6;\n",
              "    }\n",
              "\n",
              "    [theme=dark] .colab-df-convert {\n",
              "      background-color: #3B4455;\n",
              "      fill: #D2E3FC;\n",
              "    }\n",
              "\n",
              "    [theme=dark] .colab-df-convert:hover {\n",
              "      background-color: #434B5C;\n",
              "      box-shadow: 0px 1px 3px 1px rgba(0, 0, 0, 0.15);\n",
              "      filter: drop-shadow(0px 1px 2px rgba(0, 0, 0, 0.3));\n",
              "      fill: #FFFFFF;\n",
              "    }\n",
              "  </style>\n",
              "\n",
              "      <script>\n",
              "        const buttonEl =\n",
              "          document.querySelector('#df-921e94da-81d1-4afa-8142-46c2c18d4b29 button.colab-df-convert');\n",
              "        buttonEl.style.display =\n",
              "          google.colab.kernel.accessAllowed ? 'block' : 'none';\n",
              "\n",
              "        async function convertToInteractive(key) {\n",
              "          const element = document.querySelector('#df-921e94da-81d1-4afa-8142-46c2c18d4b29');\n",
              "          const dataTable =\n",
              "            await google.colab.kernel.invokeFunction('convertToInteractive',\n",
              "                                                     [key], {});\n",
              "          if (!dataTable) return;\n",
              "\n",
              "          const docLinkHtml = 'Like what you see? Visit the ' +\n",
              "            '<a target=\"_blank\" href=https://colab.research.google.com/notebooks/data_table.ipynb>data table notebook</a>'\n",
              "            + ' to learn more about interactive tables.';\n",
              "          element.innerHTML = '';\n",
              "          dataTable['output_type'] = 'display_data';\n",
              "          await google.colab.output.renderOutput(dataTable, element);\n",
              "          const docLink = document.createElement('div');\n",
              "          docLink.innerHTML = docLinkHtml;\n",
              "          element.appendChild(docLink);\n",
              "        }\n",
              "      </script>\n",
              "    </div>\n",
              "  </div>\n",
              "  "
            ]
          },
          "metadata": {},
          "execution_count": 21
        }
      ]
    },
    {
      "cell_type": "code",
      "source": [
        "df= df.assign(Offday_Wakeup_Times= df_time_convert['Time Value (float)'])"
      ],
      "metadata": {
        "id": "sDth5aaHZRs9"
      },
      "execution_count": 22,
      "outputs": []
    },
    {
      "cell_type": "code",
      "source": [
        "df"
      ],
      "metadata": {
        "colab": {
          "base_uri": "https://localhost:8080/",
          "height": 487
        },
        "id": "MwT-FVStZT_1",
        "outputId": "5c14db73-b215-4c39-e3ef-5b0297ec688f"
      },
      "execution_count": 23,
      "outputs": [
        {
          "output_type": "execute_result",
          "data": {
            "text/plain": [
              "          AID  BIO_SEX        agew1 IMONTH4 IDAY4 IYEAR4   MACNO4 INTID4  \\\n",
              "0     5710027        2                                                     \n",
              "1     5710131        2  19.42739726       5     6   2008  2288160    160   \n",
              "2     5710317        1                                                     \n",
              "3     5710386        1  20.43013699       5    22   2008  2288238    238   \n",
              "4     5710455        2                                                     \n",
              "...       ...      ...          ...     ...   ...    ...      ...    ...   \n",
              "6499  9971993        2  14.26027397       6     7   2008  2288373    373   \n",
              "6500  9971993        1                    2    13   2008  2288343    343   \n",
              "6501  9971997        1  15.09315068       3    22   2008  2288325    325   \n",
              "6502  9971997        2  15.50958904       4     1   2008  2288325    325   \n",
              "6503  9971997        1                    4    16   2008  2288316    316   \n",
              "\n",
              "     BIO_SEX4 VERSION4  ... H4EO5H H4EO5I H4EO5J H4EO6 H4EO7 offday_wakeup  \\\n",
              "0                       ...                                            NaN   \n",
              "1           2     V5.4  ...      0      0      0     2     1           1.0   \n",
              "2                       ...                                            NaN   \n",
              "3           1     V5.4  ...      0      0      0     4     1           1.0   \n",
              "4                       ...                                            NaN   \n",
              "...       ...      ...  ...    ...    ...    ...   ...   ...           ...   \n",
              "6499        2     V5.4  ...      0      0      0     4     2           1.0   \n",
              "6500        1     V5.1  ...      0      0      0     3     2           1.0   \n",
              "6501        1     V5.2  ...      0      0      0     4     3           1.0   \n",
              "6502        2     V5.2  ...      0      0      0     3     2           1.0   \n",
              "6503        1     V5.3  ...      0      0      0     4     2           1.0   \n",
              "\n",
              "     Am_Pm_Wakeup Hour_Wakeup Minutes_Wakeup Offday_Wakeup_Times  \n",
              "0             NaN         NaN            NaN                 NaN  \n",
              "1              AM         7.0           30.0            7.500000  \n",
              "2             NaN         NaN            NaN                 NaN  \n",
              "3              AM         9.0            0.0            9.000000  \n",
              "4             NaN         NaN            NaN                 NaN  \n",
              "...           ...         ...            ...                 ...  \n",
              "6499           AM        10.0            0.0           10.000000  \n",
              "6500           AM         8.0            0.0            8.000000  \n",
              "6501           AM         5.0           30.0            5.500000  \n",
              "6502           AM         8.0            2.0            8.033333  \n",
              "6503           AM         7.0           30.0            7.500000  \n",
              "\n",
              "[6504 rows x 981 columns]"
            ],
            "text/html": [
              "\n",
              "  <div id=\"df-81877123-6d7b-4849-8e8a-8d14d778b32f\">\n",
              "    <div class=\"colab-df-container\">\n",
              "      <div>\n",
              "<style scoped>\n",
              "    .dataframe tbody tr th:only-of-type {\n",
              "        vertical-align: middle;\n",
              "    }\n",
              "\n",
              "    .dataframe tbody tr th {\n",
              "        vertical-align: top;\n",
              "    }\n",
              "\n",
              "    .dataframe thead th {\n",
              "        text-align: right;\n",
              "    }\n",
              "</style>\n",
              "<table border=\"1\" class=\"dataframe\">\n",
              "  <thead>\n",
              "    <tr style=\"text-align: right;\">\n",
              "      <th></th>\n",
              "      <th>AID</th>\n",
              "      <th>BIO_SEX</th>\n",
              "      <th>agew1</th>\n",
              "      <th>IMONTH4</th>\n",
              "      <th>IDAY4</th>\n",
              "      <th>IYEAR4</th>\n",
              "      <th>MACNO4</th>\n",
              "      <th>INTID4</th>\n",
              "      <th>BIO_SEX4</th>\n",
              "      <th>VERSION4</th>\n",
              "      <th>...</th>\n",
              "      <th>H4EO5H</th>\n",
              "      <th>H4EO5I</th>\n",
              "      <th>H4EO5J</th>\n",
              "      <th>H4EO6</th>\n",
              "      <th>H4EO7</th>\n",
              "      <th>offday_wakeup</th>\n",
              "      <th>Am_Pm_Wakeup</th>\n",
              "      <th>Hour_Wakeup</th>\n",
              "      <th>Minutes_Wakeup</th>\n",
              "      <th>Offday_Wakeup_Times</th>\n",
              "    </tr>\n",
              "  </thead>\n",
              "  <tbody>\n",
              "    <tr>\n",
              "      <th>0</th>\n",
              "      <td>5710027</td>\n",
              "      <td>2</td>\n",
              "      <td></td>\n",
              "      <td></td>\n",
              "      <td></td>\n",
              "      <td></td>\n",
              "      <td></td>\n",
              "      <td></td>\n",
              "      <td></td>\n",
              "      <td></td>\n",
              "      <td>...</td>\n",
              "      <td></td>\n",
              "      <td></td>\n",
              "      <td></td>\n",
              "      <td></td>\n",
              "      <td></td>\n",
              "      <td>NaN</td>\n",
              "      <td>NaN</td>\n",
              "      <td>NaN</td>\n",
              "      <td>NaN</td>\n",
              "      <td>NaN</td>\n",
              "    </tr>\n",
              "    <tr>\n",
              "      <th>1</th>\n",
              "      <td>5710131</td>\n",
              "      <td>2</td>\n",
              "      <td>19.42739726</td>\n",
              "      <td>5</td>\n",
              "      <td>6</td>\n",
              "      <td>2008</td>\n",
              "      <td>2288160</td>\n",
              "      <td>160</td>\n",
              "      <td>2</td>\n",
              "      <td>V5.4</td>\n",
              "      <td>...</td>\n",
              "      <td>0</td>\n",
              "      <td>0</td>\n",
              "      <td>0</td>\n",
              "      <td>2</td>\n",
              "      <td>1</td>\n",
              "      <td>1.0</td>\n",
              "      <td>AM</td>\n",
              "      <td>7.0</td>\n",
              "      <td>30.0</td>\n",
              "      <td>7.500000</td>\n",
              "    </tr>\n",
              "    <tr>\n",
              "      <th>2</th>\n",
              "      <td>5710317</td>\n",
              "      <td>1</td>\n",
              "      <td></td>\n",
              "      <td></td>\n",
              "      <td></td>\n",
              "      <td></td>\n",
              "      <td></td>\n",
              "      <td></td>\n",
              "      <td></td>\n",
              "      <td></td>\n",
              "      <td>...</td>\n",
              "      <td></td>\n",
              "      <td></td>\n",
              "      <td></td>\n",
              "      <td></td>\n",
              "      <td></td>\n",
              "      <td>NaN</td>\n",
              "      <td>NaN</td>\n",
              "      <td>NaN</td>\n",
              "      <td>NaN</td>\n",
              "      <td>NaN</td>\n",
              "    </tr>\n",
              "    <tr>\n",
              "      <th>3</th>\n",
              "      <td>5710386</td>\n",
              "      <td>1</td>\n",
              "      <td>20.43013699</td>\n",
              "      <td>5</td>\n",
              "      <td>22</td>\n",
              "      <td>2008</td>\n",
              "      <td>2288238</td>\n",
              "      <td>238</td>\n",
              "      <td>1</td>\n",
              "      <td>V5.4</td>\n",
              "      <td>...</td>\n",
              "      <td>0</td>\n",
              "      <td>0</td>\n",
              "      <td>0</td>\n",
              "      <td>4</td>\n",
              "      <td>1</td>\n",
              "      <td>1.0</td>\n",
              "      <td>AM</td>\n",
              "      <td>9.0</td>\n",
              "      <td>0.0</td>\n",
              "      <td>9.000000</td>\n",
              "    </tr>\n",
              "    <tr>\n",
              "      <th>4</th>\n",
              "      <td>5710455</td>\n",
              "      <td>2</td>\n",
              "      <td></td>\n",
              "      <td></td>\n",
              "      <td></td>\n",
              "      <td></td>\n",
              "      <td></td>\n",
              "      <td></td>\n",
              "      <td></td>\n",
              "      <td></td>\n",
              "      <td>...</td>\n",
              "      <td></td>\n",
              "      <td></td>\n",
              "      <td></td>\n",
              "      <td></td>\n",
              "      <td></td>\n",
              "      <td>NaN</td>\n",
              "      <td>NaN</td>\n",
              "      <td>NaN</td>\n",
              "      <td>NaN</td>\n",
              "      <td>NaN</td>\n",
              "    </tr>\n",
              "    <tr>\n",
              "      <th>...</th>\n",
              "      <td>...</td>\n",
              "      <td>...</td>\n",
              "      <td>...</td>\n",
              "      <td>...</td>\n",
              "      <td>...</td>\n",
              "      <td>...</td>\n",
              "      <td>...</td>\n",
              "      <td>...</td>\n",
              "      <td>...</td>\n",
              "      <td>...</td>\n",
              "      <td>...</td>\n",
              "      <td>...</td>\n",
              "      <td>...</td>\n",
              "      <td>...</td>\n",
              "      <td>...</td>\n",
              "      <td>...</td>\n",
              "      <td>...</td>\n",
              "      <td>...</td>\n",
              "      <td>...</td>\n",
              "      <td>...</td>\n",
              "      <td>...</td>\n",
              "    </tr>\n",
              "    <tr>\n",
              "      <th>6499</th>\n",
              "      <td>9971993</td>\n",
              "      <td>2</td>\n",
              "      <td>14.26027397</td>\n",
              "      <td>6</td>\n",
              "      <td>7</td>\n",
              "      <td>2008</td>\n",
              "      <td>2288373</td>\n",
              "      <td>373</td>\n",
              "      <td>2</td>\n",
              "      <td>V5.4</td>\n",
              "      <td>...</td>\n",
              "      <td>0</td>\n",
              "      <td>0</td>\n",
              "      <td>0</td>\n",
              "      <td>4</td>\n",
              "      <td>2</td>\n",
              "      <td>1.0</td>\n",
              "      <td>AM</td>\n",
              "      <td>10.0</td>\n",
              "      <td>0.0</td>\n",
              "      <td>10.000000</td>\n",
              "    </tr>\n",
              "    <tr>\n",
              "      <th>6500</th>\n",
              "      <td>9971993</td>\n",
              "      <td>1</td>\n",
              "      <td></td>\n",
              "      <td>2</td>\n",
              "      <td>13</td>\n",
              "      <td>2008</td>\n",
              "      <td>2288343</td>\n",
              "      <td>343</td>\n",
              "      <td>1</td>\n",
              "      <td>V5.1</td>\n",
              "      <td>...</td>\n",
              "      <td>0</td>\n",
              "      <td>0</td>\n",
              "      <td>0</td>\n",
              "      <td>3</td>\n",
              "      <td>2</td>\n",
              "      <td>1.0</td>\n",
              "      <td>AM</td>\n",
              "      <td>8.0</td>\n",
              "      <td>0.0</td>\n",
              "      <td>8.000000</td>\n",
              "    </tr>\n",
              "    <tr>\n",
              "      <th>6501</th>\n",
              "      <td>9971997</td>\n",
              "      <td>1</td>\n",
              "      <td>15.09315068</td>\n",
              "      <td>3</td>\n",
              "      <td>22</td>\n",
              "      <td>2008</td>\n",
              "      <td>2288325</td>\n",
              "      <td>325</td>\n",
              "      <td>1</td>\n",
              "      <td>V5.2</td>\n",
              "      <td>...</td>\n",
              "      <td>0</td>\n",
              "      <td>0</td>\n",
              "      <td>0</td>\n",
              "      <td>4</td>\n",
              "      <td>3</td>\n",
              "      <td>1.0</td>\n",
              "      <td>AM</td>\n",
              "      <td>5.0</td>\n",
              "      <td>30.0</td>\n",
              "      <td>5.500000</td>\n",
              "    </tr>\n",
              "    <tr>\n",
              "      <th>6502</th>\n",
              "      <td>9971997</td>\n",
              "      <td>2</td>\n",
              "      <td>15.50958904</td>\n",
              "      <td>4</td>\n",
              "      <td>1</td>\n",
              "      <td>2008</td>\n",
              "      <td>2288325</td>\n",
              "      <td>325</td>\n",
              "      <td>2</td>\n",
              "      <td>V5.2</td>\n",
              "      <td>...</td>\n",
              "      <td>0</td>\n",
              "      <td>0</td>\n",
              "      <td>0</td>\n",
              "      <td>3</td>\n",
              "      <td>2</td>\n",
              "      <td>1.0</td>\n",
              "      <td>AM</td>\n",
              "      <td>8.0</td>\n",
              "      <td>2.0</td>\n",
              "      <td>8.033333</td>\n",
              "    </tr>\n",
              "    <tr>\n",
              "      <th>6503</th>\n",
              "      <td>9971997</td>\n",
              "      <td>1</td>\n",
              "      <td></td>\n",
              "      <td>4</td>\n",
              "      <td>16</td>\n",
              "      <td>2008</td>\n",
              "      <td>2288316</td>\n",
              "      <td>316</td>\n",
              "      <td>1</td>\n",
              "      <td>V5.3</td>\n",
              "      <td>...</td>\n",
              "      <td>0</td>\n",
              "      <td>0</td>\n",
              "      <td>0</td>\n",
              "      <td>4</td>\n",
              "      <td>2</td>\n",
              "      <td>1.0</td>\n",
              "      <td>AM</td>\n",
              "      <td>7.0</td>\n",
              "      <td>30.0</td>\n",
              "      <td>7.500000</td>\n",
              "    </tr>\n",
              "  </tbody>\n",
              "</table>\n",
              "<p>6504 rows × 981 columns</p>\n",
              "</div>\n",
              "      <button class=\"colab-df-convert\" onclick=\"convertToInteractive('df-81877123-6d7b-4849-8e8a-8d14d778b32f')\"\n",
              "              title=\"Convert this dataframe to an interactive table.\"\n",
              "              style=\"display:none;\">\n",
              "        \n",
              "  <svg xmlns=\"http://www.w3.org/2000/svg\" height=\"24px\"viewBox=\"0 0 24 24\"\n",
              "       width=\"24px\">\n",
              "    <path d=\"M0 0h24v24H0V0z\" fill=\"none\"/>\n",
              "    <path d=\"M18.56 5.44l.94 2.06.94-2.06 2.06-.94-2.06-.94-.94-2.06-.94 2.06-2.06.94zm-11 1L8.5 8.5l.94-2.06 2.06-.94-2.06-.94L8.5 2.5l-.94 2.06-2.06.94zm10 10l.94 2.06.94-2.06 2.06-.94-2.06-.94-.94-2.06-.94 2.06-2.06.94z\"/><path d=\"M17.41 7.96l-1.37-1.37c-.4-.4-.92-.59-1.43-.59-.52 0-1.04.2-1.43.59L10.3 9.45l-7.72 7.72c-.78.78-.78 2.05 0 2.83L4 21.41c.39.39.9.59 1.41.59.51 0 1.02-.2 1.41-.59l7.78-7.78 2.81-2.81c.8-.78.8-2.07 0-2.86zM5.41 20L4 18.59l7.72-7.72 1.47 1.35L5.41 20z\"/>\n",
              "  </svg>\n",
              "      </button>\n",
              "      \n",
              "  <style>\n",
              "    .colab-df-container {\n",
              "      display:flex;\n",
              "      flex-wrap:wrap;\n",
              "      gap: 12px;\n",
              "    }\n",
              "\n",
              "    .colab-df-convert {\n",
              "      background-color: #E8F0FE;\n",
              "      border: none;\n",
              "      border-radius: 50%;\n",
              "      cursor: pointer;\n",
              "      display: none;\n",
              "      fill: #1967D2;\n",
              "      height: 32px;\n",
              "      padding: 0 0 0 0;\n",
              "      width: 32px;\n",
              "    }\n",
              "\n",
              "    .colab-df-convert:hover {\n",
              "      background-color: #E2EBFA;\n",
              "      box-shadow: 0px 1px 2px rgba(60, 64, 67, 0.3), 0px 1px 3px 1px rgba(60, 64, 67, 0.15);\n",
              "      fill: #174EA6;\n",
              "    }\n",
              "\n",
              "    [theme=dark] .colab-df-convert {\n",
              "      background-color: #3B4455;\n",
              "      fill: #D2E3FC;\n",
              "    }\n",
              "\n",
              "    [theme=dark] .colab-df-convert:hover {\n",
              "      background-color: #434B5C;\n",
              "      box-shadow: 0px 1px 3px 1px rgba(0, 0, 0, 0.15);\n",
              "      filter: drop-shadow(0px 1px 2px rgba(0, 0, 0, 0.3));\n",
              "      fill: #FFFFFF;\n",
              "    }\n",
              "  </style>\n",
              "\n",
              "      <script>\n",
              "        const buttonEl =\n",
              "          document.querySelector('#df-81877123-6d7b-4849-8e8a-8d14d778b32f button.colab-df-convert');\n",
              "        buttonEl.style.display =\n",
              "          google.colab.kernel.accessAllowed ? 'block' : 'none';\n",
              "\n",
              "        async function convertToInteractive(key) {\n",
              "          const element = document.querySelector('#df-81877123-6d7b-4849-8e8a-8d14d778b32f');\n",
              "          const dataTable =\n",
              "            await google.colab.kernel.invokeFunction('convertToInteractive',\n",
              "                                                     [key], {});\n",
              "          if (!dataTable) return;\n",
              "\n",
              "          const docLinkHtml = 'Like what you see? Visit the ' +\n",
              "            '<a target=\"_blank\" href=https://colab.research.google.com/notebooks/data_table.ipynb>data table notebook</a>'\n",
              "            + ' to learn more about interactive tables.';\n",
              "          element.innerHTML = '';\n",
              "          dataTable['output_type'] = 'display_data';\n",
              "          await google.colab.output.renderOutput(dataTable, element);\n",
              "          const docLink = document.createElement('div');\n",
              "          docLink.innerHTML = docLinkHtml;\n",
              "          element.appendChild(docLink);\n",
              "        }\n",
              "      </script>\n",
              "    </div>\n",
              "  </div>\n",
              "  "
            ]
          },
          "metadata": {},
          "execution_count": 23
        }
      ]
    },
    {
      "cell_type": "code",
      "source": [
        "df['Hour_Wakeup']"
      ],
      "metadata": {
        "colab": {
          "base_uri": "https://localhost:8080/"
        },
        "id": "XxMmUMFdZXAI",
        "outputId": "19856f2c-f066-45b9-eb79-c50bb1e39831"
      },
      "execution_count": 24,
      "outputs": [
        {
          "output_type": "execute_result",
          "data": {
            "text/plain": [
              "0        NaN\n",
              "1        7.0\n",
              "2        NaN\n",
              "3        9.0\n",
              "4        NaN\n",
              "        ... \n",
              "6499    10.0\n",
              "6500     8.0\n",
              "6501     5.0\n",
              "6502     8.0\n",
              "6503     7.0\n",
              "Name: Hour_Wakeup, Length: 6504, dtype: float64"
            ]
          },
          "metadata": {},
          "execution_count": 24
        }
      ]
    },
    {
      "cell_type": "code",
      "source": [
        "df['Offday_Wakeup_Times']"
      ],
      "metadata": {
        "colab": {
          "base_uri": "https://localhost:8080/"
        },
        "id": "_rABabBTZZW_",
        "outputId": "04e96a32-07c4-43ea-a81a-ea65647b16d3"
      },
      "execution_count": 25,
      "outputs": [
        {
          "output_type": "execute_result",
          "data": {
            "text/plain": [
              "0             NaN\n",
              "1        7.500000\n",
              "2             NaN\n",
              "3        9.000000\n",
              "4             NaN\n",
              "          ...    \n",
              "6499    10.000000\n",
              "6500     8.000000\n",
              "6501     5.500000\n",
              "6502     8.033333\n",
              "6503     7.500000\n",
              "Name: Offday_Wakeup_Times, Length: 6504, dtype: float64"
            ]
          },
          "metadata": {},
          "execution_count": 25
        }
      ]
    },
    {
      "cell_type": "code",
      "source": [
        "df['Offday_Wakeup_Times'].max()"
      ],
      "metadata": {
        "colab": {
          "base_uri": "https://localhost:8080/"
        },
        "id": "uWhvIWyjZbfF",
        "outputId": "2f996eca-793d-48fe-a011-bb585bb4e62f"
      },
      "execution_count": 26,
      "outputs": [
        {
          "output_type": "execute_result",
          "data": {
            "text/plain": [
              "23.5"
            ]
          },
          "metadata": {},
          "execution_count": 26
        }
      ]
    },
    {
      "cell_type": "code",
      "source": [
        "df['Offday_Wakeup_Times'].mean()"
      ],
      "metadata": {
        "colab": {
          "base_uri": "https://localhost:8080/"
        },
        "id": "3DMjZxhxZdaT",
        "outputId": "433067a7-4126-4d97-da48-5dc79b6a356d"
      },
      "execution_count": 27,
      "outputs": [
        {
          "output_type": "execute_result",
          "data": {
            "text/plain": [
              "8.250365582974279"
            ]
          },
          "metadata": {},
          "execution_count": 27
        }
      ]
    },
    {
      "cell_type": "code",
      "source": [
        "df['Offday_Wakeup_Times'].mode()"
      ],
      "metadata": {
        "colab": {
          "base_uri": "https://localhost:8080/"
        },
        "id": "Ccf80gjmZfeN",
        "outputId": "00e90844-3add-47e2-cb65-cce3436d7eb4"
      },
      "execution_count": 28,
      "outputs": [
        {
          "output_type": "execute_result",
          "data": {
            "text/plain": [
              "0    8.0\n",
              "Name: Offday_Wakeup_Times, dtype: float64"
            ]
          },
          "metadata": {},
          "execution_count": 28
        }
      ]
    },
    {
      "cell_type": "code",
      "source": [
        "df['Offday_Wakeup_Times'].median()"
      ],
      "metadata": {
        "colab": {
          "base_uri": "https://localhost:8080/"
        },
        "id": "1udRcjfSZhma",
        "outputId": "ede122b1-b65f-409a-d91c-e2585ea6efb2"
      },
      "execution_count": 29,
      "outputs": [
        {
          "output_type": "execute_result",
          "data": {
            "text/plain": [
              "8.0"
            ]
          },
          "metadata": {},
          "execution_count": 29
        }
      ]
    },
    {
      "cell_type": "code",
      "source": [
        "#Graphs and tables or statistics\n",
        "df_time_convert"
      ],
      "metadata": {
        "id": "Q1Pv5DMz5-2C",
        "colab": {
          "base_uri": "https://localhost:8080/",
          "height": 423
        },
        "outputId": "a65bd510-f434-4a70-e8eb-096530831ab4"
      },
      "execution_count": 17,
      "outputs": [
        {
          "output_type": "execute_result",
          "data": {
            "text/plain": [
              "     Am_Pm_Wakeup  Hour_Wakeup  Minutes_Wakeup\n",
              "1              AM          7.0            30.0\n",
              "3              AM          9.0             0.0\n",
              "7              AM          6.0            30.0\n",
              "9              PM          2.0             0.0\n",
              "11             AM          5.0             0.0\n",
              "...           ...          ...             ...\n",
              "6499           AM         10.0             0.0\n",
              "6500           AM          8.0             0.0\n",
              "6501           AM          5.0            30.0\n",
              "6502           AM          8.0             2.0\n",
              "6503           AM          7.0            30.0\n",
              "\n",
              "[5106 rows x 3 columns]"
            ],
            "text/html": [
              "\n",
              "  <div id=\"df-6cf65792-0e5c-4139-9eb6-a81b37053d44\">\n",
              "    <div class=\"colab-df-container\">\n",
              "      <div>\n",
              "<style scoped>\n",
              "    .dataframe tbody tr th:only-of-type {\n",
              "        vertical-align: middle;\n",
              "    }\n",
              "\n",
              "    .dataframe tbody tr th {\n",
              "        vertical-align: top;\n",
              "    }\n",
              "\n",
              "    .dataframe thead th {\n",
              "        text-align: right;\n",
              "    }\n",
              "</style>\n",
              "<table border=\"1\" class=\"dataframe\">\n",
              "  <thead>\n",
              "    <tr style=\"text-align: right;\">\n",
              "      <th></th>\n",
              "      <th>Am_Pm_Wakeup</th>\n",
              "      <th>Hour_Wakeup</th>\n",
              "      <th>Minutes_Wakeup</th>\n",
              "    </tr>\n",
              "  </thead>\n",
              "  <tbody>\n",
              "    <tr>\n",
              "      <th>1</th>\n",
              "      <td>AM</td>\n",
              "      <td>7.0</td>\n",
              "      <td>30.0</td>\n",
              "    </tr>\n",
              "    <tr>\n",
              "      <th>3</th>\n",
              "      <td>AM</td>\n",
              "      <td>9.0</td>\n",
              "      <td>0.0</td>\n",
              "    </tr>\n",
              "    <tr>\n",
              "      <th>7</th>\n",
              "      <td>AM</td>\n",
              "      <td>6.0</td>\n",
              "      <td>30.0</td>\n",
              "    </tr>\n",
              "    <tr>\n",
              "      <th>9</th>\n",
              "      <td>PM</td>\n",
              "      <td>2.0</td>\n",
              "      <td>0.0</td>\n",
              "    </tr>\n",
              "    <tr>\n",
              "      <th>11</th>\n",
              "      <td>AM</td>\n",
              "      <td>5.0</td>\n",
              "      <td>0.0</td>\n",
              "    </tr>\n",
              "    <tr>\n",
              "      <th>...</th>\n",
              "      <td>...</td>\n",
              "      <td>...</td>\n",
              "      <td>...</td>\n",
              "    </tr>\n",
              "    <tr>\n",
              "      <th>6499</th>\n",
              "      <td>AM</td>\n",
              "      <td>10.0</td>\n",
              "      <td>0.0</td>\n",
              "    </tr>\n",
              "    <tr>\n",
              "      <th>6500</th>\n",
              "      <td>AM</td>\n",
              "      <td>8.0</td>\n",
              "      <td>0.0</td>\n",
              "    </tr>\n",
              "    <tr>\n",
              "      <th>6501</th>\n",
              "      <td>AM</td>\n",
              "      <td>5.0</td>\n",
              "      <td>30.0</td>\n",
              "    </tr>\n",
              "    <tr>\n",
              "      <th>6502</th>\n",
              "      <td>AM</td>\n",
              "      <td>8.0</td>\n",
              "      <td>2.0</td>\n",
              "    </tr>\n",
              "    <tr>\n",
              "      <th>6503</th>\n",
              "      <td>AM</td>\n",
              "      <td>7.0</td>\n",
              "      <td>30.0</td>\n",
              "    </tr>\n",
              "  </tbody>\n",
              "</table>\n",
              "<p>5106 rows × 3 columns</p>\n",
              "</div>\n",
              "      <button class=\"colab-df-convert\" onclick=\"convertToInteractive('df-6cf65792-0e5c-4139-9eb6-a81b37053d44')\"\n",
              "              title=\"Convert this dataframe to an interactive table.\"\n",
              "              style=\"display:none;\">\n",
              "        \n",
              "  <svg xmlns=\"http://www.w3.org/2000/svg\" height=\"24px\"viewBox=\"0 0 24 24\"\n",
              "       width=\"24px\">\n",
              "    <path d=\"M0 0h24v24H0V0z\" fill=\"none\"/>\n",
              "    <path d=\"M18.56 5.44l.94 2.06.94-2.06 2.06-.94-2.06-.94-.94-2.06-.94 2.06-2.06.94zm-11 1L8.5 8.5l.94-2.06 2.06-.94-2.06-.94L8.5 2.5l-.94 2.06-2.06.94zm10 10l.94 2.06.94-2.06 2.06-.94-2.06-.94-.94-2.06-.94 2.06-2.06.94z\"/><path d=\"M17.41 7.96l-1.37-1.37c-.4-.4-.92-.59-1.43-.59-.52 0-1.04.2-1.43.59L10.3 9.45l-7.72 7.72c-.78.78-.78 2.05 0 2.83L4 21.41c.39.39.9.59 1.41.59.51 0 1.02-.2 1.41-.59l7.78-7.78 2.81-2.81c.8-.78.8-2.07 0-2.86zM5.41 20L4 18.59l7.72-7.72 1.47 1.35L5.41 20z\"/>\n",
              "  </svg>\n",
              "      </button>\n",
              "      \n",
              "  <style>\n",
              "    .colab-df-container {\n",
              "      display:flex;\n",
              "      flex-wrap:wrap;\n",
              "      gap: 12px;\n",
              "    }\n",
              "\n",
              "    .colab-df-convert {\n",
              "      background-color: #E8F0FE;\n",
              "      border: none;\n",
              "      border-radius: 50%;\n",
              "      cursor: pointer;\n",
              "      display: none;\n",
              "      fill: #1967D2;\n",
              "      height: 32px;\n",
              "      padding: 0 0 0 0;\n",
              "      width: 32px;\n",
              "    }\n",
              "\n",
              "    .colab-df-convert:hover {\n",
              "      background-color: #E2EBFA;\n",
              "      box-shadow: 0px 1px 2px rgba(60, 64, 67, 0.3), 0px 1px 3px 1px rgba(60, 64, 67, 0.15);\n",
              "      fill: #174EA6;\n",
              "    }\n",
              "\n",
              "    [theme=dark] .colab-df-convert {\n",
              "      background-color: #3B4455;\n",
              "      fill: #D2E3FC;\n",
              "    }\n",
              "\n",
              "    [theme=dark] .colab-df-convert:hover {\n",
              "      background-color: #434B5C;\n",
              "      box-shadow: 0px 1px 3px 1px rgba(0, 0, 0, 0.15);\n",
              "      filter: drop-shadow(0px 1px 2px rgba(0, 0, 0, 0.3));\n",
              "      fill: #FFFFFF;\n",
              "    }\n",
              "  </style>\n",
              "\n",
              "      <script>\n",
              "        const buttonEl =\n",
              "          document.querySelector('#df-6cf65792-0e5c-4139-9eb6-a81b37053d44 button.colab-df-convert');\n",
              "        buttonEl.style.display =\n",
              "          google.colab.kernel.accessAllowed ? 'block' : 'none';\n",
              "\n",
              "        async function convertToInteractive(key) {\n",
              "          const element = document.querySelector('#df-6cf65792-0e5c-4139-9eb6-a81b37053d44');\n",
              "          const dataTable =\n",
              "            await google.colab.kernel.invokeFunction('convertToInteractive',\n",
              "                                                     [key], {});\n",
              "          if (!dataTable) return;\n",
              "\n",
              "          const docLinkHtml = 'Like what you see? Visit the ' +\n",
              "            '<a target=\"_blank\" href=https://colab.research.google.com/notebooks/data_table.ipynb>data table notebook</a>'\n",
              "            + ' to learn more about interactive tables.';\n",
              "          element.innerHTML = '';\n",
              "          dataTable['output_type'] = 'display_data';\n",
              "          await google.colab.output.renderOutput(dataTable, element);\n",
              "          const docLink = document.createElement('div');\n",
              "          docLink.innerHTML = docLinkHtml;\n",
              "          element.appendChild(docLink);\n",
              "        }\n",
              "      </script>\n",
              "    </div>\n",
              "  </div>\n",
              "  "
            ]
          },
          "metadata": {},
          "execution_count": 17
        }
      ]
    },
    {
      "cell_type": "code",
      "source": [
        "df['Offday_Wakeup_Times'].describe()"
      ],
      "metadata": {
        "colab": {
          "base_uri": "https://localhost:8080/"
        },
        "id": "8khgsVKHZjs5",
        "outputId": "0522195b-799d-4fa8-8552-66efdb057d46"
      },
      "execution_count": 30,
      "outputs": [
        {
          "output_type": "execute_result",
          "data": {
            "text/plain": [
              "count    5106.000000\n",
              "mean        8.250366\n",
              "std         2.877545\n",
              "min         0.000000\n",
              "25%         7.000000\n",
              "50%         8.000000\n",
              "75%         9.500000\n",
              "max        23.500000\n",
              "Name: Offday_Wakeup_Times, dtype: float64"
            ]
          },
          "metadata": {},
          "execution_count": 30
        }
      ]
    },
    {
      "cell_type": "code",
      "source": [
        "sns.histplot(x = 'Offday_Wakeup_Times', data =df, stat='percent', bins = 15, color = 'maroon',kde =True)"
      ],
      "metadata": {
        "colab": {
          "base_uri": "https://localhost:8080/",
          "height": 467
        },
        "id": "kVk-dHhEZmbZ",
        "outputId": "ac9b3288-3ac3-455c-ddb9-3197743af45e"
      },
      "execution_count": 32,
      "outputs": [
        {
          "output_type": "execute_result",
          "data": {
            "text/plain": [
              "<Axes: xlabel='Offday_Wakeup_Times', ylabel='Percent'>"
            ]
          },
          "metadata": {},
          "execution_count": 32
        },
        {
          "output_type": "display_data",
          "data": {
            "text/plain": [
              "<Figure size 640x480 with 1 Axes>"
            ],
            "image/png": "[encoded data removed]"
          },
          "metadata": {}
        }
      ]
    },
    {
      "cell_type": "code",
      "source": [
        "sns.boxplot(x = 'Offday_Wakeup_Times', data =df, color ='maroon')"
      ],
      "metadata": {
        "colab": {
          "base_uri": "https://localhost:8080/",
          "height": 467
        },
        "id": "J4UNed73ZvJI",
        "outputId": "ee421e8f-939e-4d2f-d0d1-8ad4182bd028"
      },
      "execution_count": 33,
      "outputs": [
        {
          "output_type": "execute_result",
          "data": {
            "text/plain": [
              "<Axes: xlabel='Offday_Wakeup_Times'>"
            ]
          },
          "metadata": {},
          "execution_count": 33
        },
        {
          "output_type": "display_data",
          "data": {
            "text/plain": [
              "<Figure size 640x480 with 1 Axes>"
            ],
            "image/png": "[encoded data removed]"
          },
          "metadata": {}
        }
      ]
    },
    {
      "cell_type": "code",
      "source": [
        "rp.summary_cont(df['Offday_Wakeup_Times'])"
      ],
      "metadata": {
        "colab": {
          "base_uri": "https://localhost:8080/",
          "height": 115
        },
        "id": "nuZ6FjpTZxgG",
        "outputId": "16981ff0-3e15-4d57-cca4-ea29e3d012bc"
      },
      "execution_count": 38,
      "outputs": [
        {
          "output_type": "stream",
          "name": "stdout",
          "text": [
            "\n",
            "\n"
          ]
        },
        {
          "output_type": "execute_result",
          "data": {
            "text/plain": [
              "              Variable       N    Mean      SD      SE  95% Conf.  Interval\n",
              "0  Offday_Wakeup_Times  5106.0  8.2504  2.8775  0.0403     8.1714    8.3293"
            ],
            "text/html": [
              "\n",
              "  <div id=\"df-b844f57d-ed50-4ccd-8418-af00de12a2ee\">\n",
              "    <div class=\"colab-df-container\">\n",
              "      <div>\n",
              "<style scoped>\n",
              "    .dataframe tbody tr th:only-of-type {\n",
              "        vertical-align: middle;\n",
              "    }\n",
              "\n",
              "    .dataframe tbody tr th {\n",
              "        vertical-align: top;\n",
              "    }\n",
              "\n",
              "    .dataframe thead th {\n",
              "        text-align: right;\n",
              "    }\n",
              "</style>\n",
              "<table border=\"1\" class=\"dataframe\">\n",
              "  <thead>\n",
              "    <tr style=\"text-align: right;\">\n",
              "      <th></th>\n",
              "      <th>Variable</th>\n",
              "      <th>N</th>\n",
              "      <th>Mean</th>\n",
              "      <th>SD</th>\n",
              "      <th>SE</th>\n",
              "      <th>95% Conf.</th>\n",
              "      <th>Interval</th>\n",
              "    </tr>\n",
              "  </thead>\n",
              "  <tbody>\n",
              "    <tr>\n",
              "      <th>0</th>\n",
              "      <td>Offday_Wakeup_Times</td>\n",
              "      <td>5106.0</td>\n",
              "      <td>8.2504</td>\n",
              "      <td>2.8775</td>\n",
              "      <td>0.0403</td>\n",
              "      <td>8.1714</td>\n",
              "      <td>8.3293</td>\n",
              "    </tr>\n",
              "  </tbody>\n",
              "</table>\n",
              "</div>\n",
              "      <button class=\"colab-df-convert\" onclick=\"convertToInteractive('df-b844f57d-ed50-4ccd-8418-af00de12a2ee')\"\n",
              "              title=\"Convert this dataframe to an interactive table.\"\n",
              "              style=\"display:none;\">\n",
              "        \n",
              "  <svg xmlns=\"http://www.w3.org/2000/svg\" height=\"24px\"viewBox=\"0 0 24 24\"\n",
              "       width=\"24px\">\n",
              "    <path d=\"M0 0h24v24H0V0z\" fill=\"none\"/>\n",
              "    <path d=\"M18.56 5.44l.94 2.06.94-2.06 2.06-.94-2.06-.94-.94-2.06-.94 2.06-2.06.94zm-11 1L8.5 8.5l.94-2.06 2.06-.94-2.06-.94L8.5 2.5l-.94 2.06-2.06.94zm10 10l.94 2.06.94-2.06 2.06-.94-2.06-.94-.94-2.06-.94 2.06-2.06.94z\"/><path d=\"M17.41 7.96l-1.37-1.37c-.4-.4-.92-.59-1.43-.59-.52 0-1.04.2-1.43.59L10.3 9.45l-7.72 7.72c-.78.78-.78 2.05 0 2.83L4 21.41c.39.39.9.59 1.41.59.51 0 1.02-.2 1.41-.59l7.78-7.78 2.81-2.81c.8-.78.8-2.07 0-2.86zM5.41 20L4 18.59l7.72-7.72 1.47 1.35L5.41 20z\"/>\n",
              "  </svg>\n",
              "      </button>\n",
              "      \n",
              "  <style>\n",
              "    .colab-df-container {\n",
              "      display:flex;\n",
              "      flex-wrap:wrap;\n",
              "      gap: 12px;\n",
              "    }\n",
              "\n",
              "    .colab-df-convert {\n",
              "      background-color: #E8F0FE;\n",
              "      border: none;\n",
              "      border-radius: 50%;\n",
              "      cursor: pointer;\n",
              "      display: none;\n",
              "      fill: #1967D2;\n",
              "      height: 32px;\n",
              "      padding: 0 0 0 0;\n",
              "      width: 32px;\n",
              "    }\n",
              "\n",
              "    .colab-df-convert:hover {\n",
              "      background-color: #E2EBFA;\n",
              "      box-shadow: 0px 1px 2px rgba(60, 64, 67, 0.3), 0px 1px 3px 1px rgba(60, 64, 67, 0.15);\n",
              "      fill: #174EA6;\n",
              "    }\n",
              "\n",
              "    [theme=dark] .colab-df-convert {\n",
              "      background-color: #3B4455;\n",
              "      fill: #D2E3FC;\n",
              "    }\n",
              "\n",
              "    [theme=dark] .colab-df-convert:hover {\n",
              "      background-color: #434B5C;\n",
              "      box-shadow: 0px 1px 3px 1px rgba(0, 0, 0, 0.15);\n",
              "      filter: drop-shadow(0px 1px 2px rgba(0, 0, 0, 0.3));\n",
              "      fill: #FFFFFF;\n",
              "    }\n",
              "  </style>\n",
              "\n",
              "      <script>\n",
              "        const buttonEl =\n",
              "          document.querySelector('#df-b844f57d-ed50-4ccd-8418-af00de12a2ee button.colab-df-convert');\n",
              "        buttonEl.style.display =\n",
              "          google.colab.kernel.accessAllowed ? 'block' : 'none';\n",
              "\n",
              "        async function convertToInteractive(key) {\n",
              "          const element = document.querySelector('#df-b844f57d-ed50-4ccd-8418-af00de12a2ee');\n",
              "          const dataTable =\n",
              "            await google.colab.kernel.invokeFunction('convertToInteractive',\n",
              "                                                     [key], {});\n",
              "          if (!dataTable) return;\n",
              "\n",
              "          const docLinkHtml = 'Like what you see? Visit the ' +\n",
              "            '<a target=\"_blank\" href=https://colab.research.google.com/notebooks/data_table.ipynb>data table notebook</a>'\n",
              "            + ' to learn more about interactive tables.';\n",
              "          element.innerHTML = '';\n",
              "          dataTable['output_type'] = 'display_data';\n",
              "          await google.colab.output.renderOutput(dataTable, element);\n",
              "          const docLink = document.createElement('div');\n",
              "          docLink.innerHTML = docLinkHtml;\n",
              "          element.appendChild(docLink);\n",
              "        }\n",
              "      </script>\n",
              "    </div>\n",
              "  </div>\n",
              "  "
            ]
          },
          "metadata": {},
          "execution_count": 38
        }
      ]
    },
    {
      "cell_type": "markdown",
      "source": [
        "Codebook 2 Question: Have you ever used any of the following drugs?![Screenshot 2023-04-30 at 11.25.30 AM.png](data:image/png;base64,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)"
      ],
      "metadata": {
        "id": "wZC59jy36Ecy"
      }
    },
    {
      "cell_type": "code",
      "source": [
        "#Manage data for variable 1\n",
        "df['Marijuana_Usage'] = df['H4TO65B']\n",
        "df['Marijuana_Usage'].value_counts()"
      ],
      "metadata": {
        "id": "1N6BlzE76JZJ",
        "colab": {
          "base_uri": "https://localhost:8080/"
        },
        "outputId": "d0e578ac-788d-408d-c7c6-50fbdbdbfda9"
      },
      "execution_count": 42,
      "outputs": [
        {
          "output_type": "execute_result",
          "data": {
            "text/plain": [
              "1    2778\n",
              "0    2300\n",
              "     1390\n",
              "6      26\n",
              "8      10\n",
              "Name: Marijuana_Usage, dtype: int64"
            ]
          },
          "metadata": {},
          "execution_count": 42
        }
      ]
    },
    {
      "cell_type": "code",
      "source": [
        "df['Marijuana_Usage'] = df['Marijuana_Usage'].loc[df['Marijuana_Usage'] !='7']\n",
        "df['Marijuana_Usage'] = df['Marijuana_Usage'].loc[df['Marijuana_Usage'] !='6']\n",
        "df['Marijuana_Usage'] = df['Marijuana_Usage'].loc[df['Marijuana_Usage'] !='8']\n",
        "df['Marijuana_Usage'] = df['Marijuana_Usage'].loc[df['Marijuana_Usage'] !=' ']\n",
        "df['Marijuana_Usage'].value_counts()"
      ],
      "metadata": {
        "colab": {
          "base_uri": "https://localhost:8080/"
        },
        "id": "vMns3MzOawrs",
        "outputId": "323486ee-f64d-4f12-d6bf-59d393e43c37"
      },
      "execution_count": 43,
      "outputs": [
        {
          "output_type": "execute_result",
          "data": {
            "text/plain": [
              "1    2778\n",
              "0    2300\n",
              "Name: Marijuana_Usage, dtype: int64"
            ]
          },
          "metadata": {},
          "execution_count": 43
        }
      ]
    },
    {
      "cell_type": "code",
      "source": [
        "df['Marijuana_Usage'].replace(['0', '1'] , ['NO' , 'Yes'] , inplace = True)\n",
        "df['Marijuana_Usage'].value_counts()"
      ],
      "metadata": {
        "colab": {
          "base_uri": "https://localhost:8080/"
        },
        "id": "2LetSycJa2cO",
        "outputId": "3a9e7747-a1a0-484d-fa8d-8103e06045a7"
      },
      "execution_count": 44,
      "outputs": [
        {
          "output_type": "execute_result",
          "data": {
            "text/plain": [
              "Yes    2778\n",
              "NO     2300\n",
              "Name: Marijuana_Usage, dtype: int64"
            ]
          },
          "metadata": {},
          "execution_count": 44
        }
      ]
    },
    {
      "cell_type": "code",
      "source": [
        "#Graphs and tables or statistics\n",
        "rp.summary_cat(df['Marijuana_Usage'])"
      ],
      "metadata": {
        "id": "zLkanovP6L9s",
        "colab": {
          "base_uri": "https://localhost:8080/",
          "height": 112
        },
        "outputId": "6119859e-cdf2-44f0-e22c-8f60ba551f08"
      },
      "execution_count": 45,
      "outputs": [
        {
          "output_type": "execute_result",
          "data": {
            "text/plain": [
              "          Variable Outcome  Count  Percent\n",
              "0  Marijuana_Usage     Yes   2778    54.71\n",
              "1                       NO   2300    45.29"
            ],
            "text/html": [
              "\n",
              "  <div id=\"df-44898e03-d01d-474b-82e2-b74b76eaaedf\">\n",
              "    <div class=\"colab-df-container\">\n",
              "      <div>\n",
              "<style scoped>\n",
              "    .dataframe tbody tr th:only-of-type {\n",
              "        vertical-align: middle;\n",
              "    }\n",
              "\n",
              "    .dataframe tbody tr th {\n",
              "        vertical-align: top;\n",
              "    }\n",
              "\n",
              "    .dataframe thead th {\n",
              "        text-align: right;\n",
              "    }\n",
              "</style>\n",
              "<table border=\"1\" class=\"dataframe\">\n",
              "  <thead>\n",
              "    <tr style=\"text-align: right;\">\n",
              "      <th></th>\n",
              "      <th>Variable</th>\n",
              "      <th>Outcome</th>\n",
              "      <th>Count</th>\n",
              "      <th>Percent</th>\n",
              "    </tr>\n",
              "  </thead>\n",
              "  <tbody>\n",
              "    <tr>\n",
              "      <th>0</th>\n",
              "      <td>Marijuana_Usage</td>\n",
              "      <td>Yes</td>\n",
              "      <td>2778</td>\n",
              "      <td>54.71</td>\n",
              "    </tr>\n",
              "    <tr>\n",
              "      <th>1</th>\n",
              "      <td></td>\n",
              "      <td>NO</td>\n",
              "      <td>2300</td>\n",
              "      <td>45.29</td>\n",
              "    </tr>\n",
              "  </tbody>\n",
              "</table>\n",
              "</div>\n",
              "      <button class=\"colab-df-convert\" onclick=\"convertToInteractive('df-44898e03-d01d-474b-82e2-b74b76eaaedf')\"\n",
              "              title=\"Convert this dataframe to an interactive table.\"\n",
              "              style=\"display:none;\">\n",
              "        \n",
              "  <svg xmlns=\"http://www.w3.org/2000/svg\" height=\"24px\"viewBox=\"0 0 24 24\"\n",
              "       width=\"24px\">\n",
              "    <path d=\"M0 0h24v24H0V0z\" fill=\"none\"/>\n",
              "    <path d=\"M18.56 5.44l.94 2.06.94-2.06 2.06-.94-2.06-.94-.94-2.06-.94 2.06-2.06.94zm-11 1L8.5 8.5l.94-2.06 2.06-.94-2.06-.94L8.5 2.5l-.94 2.06-2.06.94zm10 10l.94 2.06.94-2.06 2.06-.94-2.06-.94-.94-2.06-.94 2.06-2.06.94z\"/><path d=\"M17.41 7.96l-1.37-1.37c-.4-.4-.92-.59-1.43-.59-.52 0-1.04.2-1.43.59L10.3 9.45l-7.72 7.72c-.78.78-.78 2.05 0 2.83L4 21.41c.39.39.9.59 1.41.59.51 0 1.02-.2 1.41-.59l7.78-7.78 2.81-2.81c.8-.78.8-2.07 0-2.86zM5.41 20L4 18.59l7.72-7.72 1.47 1.35L5.41 20z\"/>\n",
              "  </svg>\n",
              "      </button>\n",
              "      \n",
              "  <style>\n",
              "    .colab-df-container {\n",
              "      display:flex;\n",
              "      flex-wrap:wrap;\n",
              "      gap: 12px;\n",
              "    }\n",
              "\n",
              "    .colab-df-convert {\n",
              "      background-color: #E8F0FE;\n",
              "      border: none;\n",
              "      border-radius: 50%;\n",
              "      cursor: pointer;\n",
              "      display: none;\n",
              "      fill: #1967D2;\n",
              "      height: 32px;\n",
              "      padding: 0 0 0 0;\n",
              "      width: 32px;\n",
              "    }\n",
              "\n",
              "    .colab-df-convert:hover {\n",
              "      background-color: #E2EBFA;\n",
              "      box-shadow: 0px 1px 2px rgba(60, 64, 67, 0.3), 0px 1px 3px 1px rgba(60, 64, 67, 0.15);\n",
              "      fill: #174EA6;\n",
              "    }\n",
              "\n",
              "    [theme=dark] .colab-df-convert {\n",
              "      background-color: #3B4455;\n",
              "      fill: #D2E3FC;\n",
              "    }\n",
              "\n",
              "    [theme=dark] .colab-df-convert:hover {\n",
              "      background-color: #434B5C;\n",
              "      box-shadow: 0px 1px 3px 1px rgba(0, 0, 0, 0.15);\n",
              "      filter: drop-shadow(0px 1px 2px rgba(0, 0, 0, 0.3));\n",
              "      fill: #FFFFFF;\n",
              "    }\n",
              "  </style>\n",
              "\n",
              "      <script>\n",
              "        const buttonEl =\n",
              "          document.querySelector('#df-44898e03-d01d-474b-82e2-b74b76eaaedf button.colab-df-convert');\n",
              "        buttonEl.style.display =\n",
              "          google.colab.kernel.accessAllowed ? 'block' : 'none';\n",
              "\n",
              "        async function convertToInteractive(key) {\n",
              "          const element = document.querySelector('#df-44898e03-d01d-474b-82e2-b74b76eaaedf');\n",
              "          const dataTable =\n",
              "            await google.colab.kernel.invokeFunction('convertToInteractive',\n",
              "                                                     [key], {});\n",
              "          if (!dataTable) return;\n",
              "\n",
              "          const docLinkHtml = 'Like what you see? Visit the ' +\n",
              "            '<a target=\"_blank\" href=https://colab.research.google.com/notebooks/data_table.ipynb>data table notebook</a>'\n",
              "            + ' to learn more about interactive tables.';\n",
              "          element.innerHTML = '';\n",
              "          dataTable['output_type'] = 'display_data';\n",
              "          await google.colab.output.renderOutput(dataTable, element);\n",
              "          const docLink = document.createElement('div');\n",
              "          docLink.innerHTML = docLinkHtml;\n",
              "          element.appendChild(docLink);\n",
              "        }\n",
              "      </script>\n",
              "    </div>\n",
              "  </div>\n",
              "  "
            ]
          },
          "metadata": {},
          "execution_count": 45
        }
      ]
    },
    {
      "cell_type": "code",
      "source": [
        "plt.title(\"Have you ever tried marijuana?\")\n",
        "df['Marijuana_Usage'].value_counts().plot(kind ='pie', autopct='%1.1f%%', colors=['forestgreen', 'limegreen'])"
      ],
      "metadata": {
        "colab": {
          "base_uri": "https://localhost:8080/",
          "height": 445
        },
        "id": "hjAUMd6JblLT",
        "outputId": "dd08f5e5-1152-407b-a8b4-c67a91b2fbf1"
      },
      "execution_count": 47,
      "outputs": [
        {
          "output_type": "execute_result",
          "data": {
            "text/plain": [
              "<Axes: title={'center': 'Have you ever tried marijuana?'}, ylabel='Marijuana_Usage'>"
            ]
          },
          "metadata": {},
          "execution_count": 47
        },
        {
          "output_type": "display_data",
          "data": {
            "text/plain": [
              "<Figure size 640x480 with 1 Axes>"
            ],
            "image/png": "[encoded data removed]"
          },
          "metadata": {}
        }
      ]
    },
    {
      "cell_type": "code",
      "source": [
        "plt.xlabel(\"Marijuana Usage\")\n",
        "plt.ylabel(\"Percent\")\n",
        "plt.title(\"Have you ever tried marijuana?\")\n",
        "df['Marijuana_Usage'].value_counts(normalize = True).plot(kind ='bar', color = 'chartreuse', width = 0.2, alpha = 0.5)"
      ],
      "metadata": {
        "colab": {
          "base_uri": "https://localhost:8080/",
          "height": 497
        },
        "id": "o2WI96l6bx5u",
        "outputId": "0ba56a2e-d18b-41d0-8af9-9d16b2440786"
      },
      "execution_count": 59,
      "outputs": [
        {
          "output_type": "execute_result",
          "data": {
            "text/plain": [
              "<Axes: title={'center': 'Have you ever tried marijuana?'}, xlabel='Marijuana Usage', ylabel='Percent'>"
            ]
          },
          "metadata": {},
          "execution_count": 59
        },
        {
          "output_type": "display_data",
          "data": {
            "text/plain": [
              "<Figure size 640x480 with 1 Axes>"
            ],
            "image/png": "[encoded data removed]"
          },
          "metadata": {}
        }
      ]
    }
  ]
}